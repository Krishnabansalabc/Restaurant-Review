{
 "cells": [
  {
   "cell_type": "markdown",
   "metadata": {},
   "source": [
    "<h1><center><u>RESTAURANT REVIEWS</u></center></h1>"
   ]
  },
  {
   "cell_type": "markdown",
   "metadata": {},
   "source": [
    "<h2><center>Libraries Used</center></h2>"
   ]
  },
  {
   "cell_type": "code",
   "execution_count": 1,
   "metadata": {},
   "outputs": [
    {
     "name": "stderr",
     "output_type": "stream",
     "text": [
      "Warning message:\n",
      "\"package 'tm' was built under R version 3.6.1\"Loading required package: NLP\n",
      "randomForest 4.6-14\n",
      "Type rfNews() to see new features/changes/bug fixes.\n",
      "Warning message:\n",
      "\"package 'caTools' was built under R version 3.6.1\"Warning message:\n",
      "\"package 'e1071' was built under R version 3.6.1\"Warning message:\n",
      "\"package 'MLmetrics' was built under R version 3.6.1\"\n",
      "Attaching package: 'MLmetrics'\n",
      "\n",
      "The following object is masked from 'package:base':\n",
      "\n",
      "    Recall\n",
      "\n"
     ]
    }
   ],
   "source": [
    "library(tm)\n",
    "library(SnowballC)\n",
    "library(randomForest)\n",
    "library(caTools)\n",
    "library(rpart)\n",
    "library(e1071)\n",
    "library(MLmetrics)"
   ]
  },
  {
   "cell_type": "markdown",
   "metadata": {},
   "source": [
    "<h2><center>Importing and Cleaning the Data</center></h2>"
   ]
  },
  {
   "cell_type": "code",
   "execution_count": 2,
   "metadata": {},
   "outputs": [],
   "source": [
    "#importing the data\n",
    "data = read.delim(\"Restaurant_Reviews.tsv\",quote = \"\",stringsAsFactors = FALSE)"
   ]
  },
  {
   "cell_type": "code",
   "execution_count": 3,
   "metadata": {},
   "outputs": [
    {
     "data": {
      "text/html": [
       "<table>\n",
       "<thead><tr><th scope=col>Review</th><th scope=col>Liked</th></tr></thead>\n",
       "<tbody>\n",
       "\t<tr><td>Wow... Loved this place.                                                               </td><td>1                                                                                      </td></tr>\n",
       "\t<tr><td>Crust is not good.                                                                     </td><td>0                                                                                      </td></tr>\n",
       "\t<tr><td>Not tasty and the texture was just nasty.                                              </td><td>0                                                                                      </td></tr>\n",
       "\t<tr><td>Stopped by during the late May bank holiday off Rick Steve recommendation and loved it.</td><td>1                                                                                      </td></tr>\n",
       "\t<tr><td>The selection on the menu was great and so were the prices.                            </td><td>1                                                                                      </td></tr>\n",
       "\t<tr><td>Now I am getting angry and I want my damn pho.                                         </td><td>0                                                                                      </td></tr>\n",
       "</tbody>\n",
       "</table>\n"
      ],
      "text/latex": [
       "\\begin{tabular}{r|ll}\n",
       " Review & Liked\\\\\n",
       "\\hline\n",
       "\t Wow... Loved this place.                                                                & 1                                                                                      \\\\\n",
       "\t Crust is not good.                                                                      & 0                                                                                      \\\\\n",
       "\t Not tasty and the texture was just nasty.                                               & 0                                                                                      \\\\\n",
       "\t Stopped by during the late May bank holiday off Rick Steve recommendation and loved it. & 1                                                                                      \\\\\n",
       "\t The selection on the menu was great and so were the prices.                             & 1                                                                                      \\\\\n",
       "\t Now I am getting angry and I want my damn pho.                                          & 0                                                                                      \\\\\n",
       "\\end{tabular}\n"
      ],
      "text/markdown": [
       "\n",
       "| Review | Liked |\n",
       "|---|---|\n",
       "| Wow... Loved this place.                                                                | 1                                                                                       |\n",
       "| Crust is not good.                                                                      | 0                                                                                       |\n",
       "| Not tasty and the texture was just nasty.                                               | 0                                                                                       |\n",
       "| Stopped by during the late May bank holiday off Rick Steve recommendation and loved it. | 1                                                                                       |\n",
       "| The selection on the menu was great and so were the prices.                             | 1                                                                                       |\n",
       "| Now I am getting angry and I want my damn pho.                                          | 0                                                                                       |\n",
       "\n"
      ],
      "text/plain": [
       "  Review                                                                                 \n",
       "1 Wow... Loved this place.                                                               \n",
       "2 Crust is not good.                                                                     \n",
       "3 Not tasty and the texture was just nasty.                                              \n",
       "4 Stopped by during the late May bank holiday off Rick Steve recommendation and loved it.\n",
       "5 The selection on the menu was great and so were the prices.                            \n",
       "6 Now I am getting angry and I want my damn pho.                                         \n",
       "  Liked\n",
       "1 1    \n",
       "2 0    \n",
       "3 0    \n",
       "4 1    \n",
       "5 1    \n",
       "6 0    "
      ]
     },
     "metadata": {},
     "output_type": "display_data"
    }
   ],
   "source": [
    "head(data)"
   ]
  },
  {
   "cell_type": "code",
   "execution_count": 4,
   "metadata": {},
   "outputs": [
    {
     "name": "stdout",
     "output_type": "stream",
     "text": [
      "'data.frame':\t1000 obs. of  2 variables:\n",
      " $ Review: chr  \"Wow... Loved this place.\" \"Crust is not good.\" \"Not tasty and the texture was just nasty.\" \"Stopped by during the late May bank holiday off Rick Steve recommendation and loved it.\" ...\n",
      " $ Liked : int  1 0 0 1 1 0 0 0 1 1 ...\n"
     ]
    }
   ],
   "source": [
    "str(data)"
   ]
  },
  {
   "cell_type": "code",
   "execution_count": 5,
   "metadata": {},
   "outputs": [],
   "source": [
    "#cleaning the data\n",
    "corpous = VCorpus(VectorSource(data$Review))\n",
    "corpous = tm_map(corpous,content_transformer(tolower)) # converting all text to lower alphabets\n",
    "corpous = tm_map(corpous,removeNumbers)# removing all numeric data \n",
    "corpous = tm_map(corpous,removePunctuation)# removing all punctuation marks\n",
    "corpous = tm_map(corpous,removeWords,stopwords()) # removing extra words like pronouns, articles etc.\n",
    "corpous = tm_map(corpous,stemDocument)# converting all words to there root words\n",
    "corpous = tm_map(corpous,stripWhitespace) # removing white spaces"
   ]
  },
  {
   "cell_type": "code",
   "execution_count": 6,
   "metadata": {},
   "outputs": [
    {
     "data": {
      "text/plain": [
       "<<DocumentTermMatrix (documents: 1000, terms: 691)>>\n",
       "Non-/sparse entries: 4549/686451\n",
       "Sparsity           : 99%\n",
       "Maximal term length: 12\n",
       "Weighting          : term frequency (tf)"
      ]
     },
     "metadata": {},
     "output_type": "display_data"
    }
   ],
   "source": [
    "dtm = DocumentTermMatrix(corpous)# creating sparse matrix\n",
    "dtm = removeSparseTerms(dtm,0.999)\n",
    "dtm"
   ]
  },
  {
   "cell_type": "markdown",
   "metadata": {},
   "source": [
    "<h2>We have 691 unique words after cleaning the data and allowing 99% Sparsity.</h2>"
   ]
  },
  {
   "cell_type": "code",
   "execution_count": 7,
   "metadata": {},
   "outputs": [],
   "source": [
    "dataset = as.data.frame(as.matrix(dtm))#converting again as data frame\n",
    "dataset$Liked = data$Liked"
   ]
  },
  {
   "cell_type": "code",
   "execution_count": 8,
   "metadata": {},
   "outputs": [
    {
     "data": {
      "text/html": [
       "<table>\n",
       "<thead><tr><th scope=col>absolut</th><th scope=col>acknowledg</th><th scope=col>actual</th><th scope=col>ago</th><th scope=col>almost</th><th scope=col>also</th><th scope=col>although</th><th scope=col>alway</th><th scope=col>amaz</th><th scope=col>ambianc</th><th scope=col>...</th><th scope=col>wow</th><th scope=col>wrap</th><th scope=col>wrong</th><th scope=col>year</th><th scope=col>yet</th><th scope=col>youd</th><th scope=col>your</th><th scope=col>yummi</th><th scope=col>zero</th><th scope=col>Liked</th></tr></thead>\n",
       "<tbody>\n",
       "\t<tr><td>0  </td><td>0  </td><td>0  </td><td>0  </td><td>0  </td><td>0  </td><td>0  </td><td>0  </td><td>0  </td><td>0  </td><td>...</td><td>1  </td><td>0  </td><td>0  </td><td>0  </td><td>0  </td><td>0  </td><td>0  </td><td>0  </td><td>0  </td><td>1  </td></tr>\n",
       "\t<tr><td>0  </td><td>0  </td><td>0  </td><td>0  </td><td>0  </td><td>0  </td><td>0  </td><td>0  </td><td>0  </td><td>0  </td><td>...</td><td>0  </td><td>0  </td><td>0  </td><td>0  </td><td>0  </td><td>0  </td><td>0  </td><td>0  </td><td>0  </td><td>0  </td></tr>\n",
       "\t<tr><td>0  </td><td>0  </td><td>0  </td><td>0  </td><td>0  </td><td>0  </td><td>0  </td><td>0  </td><td>0  </td><td>0  </td><td>...</td><td>0  </td><td>0  </td><td>0  </td><td>0  </td><td>0  </td><td>0  </td><td>0  </td><td>0  </td><td>0  </td><td>0  </td></tr>\n",
       "\t<tr><td>0  </td><td>0  </td><td>0  </td><td>0  </td><td>0  </td><td>0  </td><td>0  </td><td>0  </td><td>0  </td><td>0  </td><td>...</td><td>0  </td><td>0  </td><td>0  </td><td>0  </td><td>0  </td><td>0  </td><td>0  </td><td>0  </td><td>0  </td><td>1  </td></tr>\n",
       "\t<tr><td>0  </td><td>0  </td><td>0  </td><td>0  </td><td>0  </td><td>0  </td><td>0  </td><td>0  </td><td>0  </td><td>0  </td><td>...</td><td>0  </td><td>0  </td><td>0  </td><td>0  </td><td>0  </td><td>0  </td><td>0  </td><td>0  </td><td>0  </td><td>1  </td></tr>\n",
       "\t<tr><td>0  </td><td>0  </td><td>0  </td><td>0  </td><td>0  </td><td>0  </td><td>0  </td><td>0  </td><td>0  </td><td>0  </td><td>...</td><td>0  </td><td>0  </td><td>0  </td><td>0  </td><td>0  </td><td>0  </td><td>0  </td><td>0  </td><td>0  </td><td>0  </td></tr>\n",
       "</tbody>\n",
       "</table>\n"
      ],
      "text/latex": [
       "\\begin{tabular}{r|llllllllllllllllllllllllllllllllllllllllllllllllllllllllllllllllllllllllllllllllllllllllllllllllllllllllllllllllllllllllllllllllllllllllllllllllllllllllllllllllllllllllllllllllllllllllllllllllllllllllllllllllllllllllllllllllllllllllllllllllllllllllllllllllllllllllllllllllllllllllllllllllllllllllllllllllllllllllllllllllllllllllllllllllllllllllllllllllllllllllllllllllllllllllllllllllllllllllllllllllllllllllllllllllllllllllllllllllllllllllllllllllllllllllllllllllllllllllllllllllllllllllllllllllllllllllllllllllllllllllllllllllllllllllllllllllllllllllllllllllllllllllllllllllllllllllllllllllllllllllllllllllllllllllllllllllllllllllllllllllllllllllllllllllllllllllllllllllllllllllllllllllllll}\n",
       " absolut & acknowledg & actual & ago & almost & also & although & alway & amaz & ambianc & ... & wow & wrap & wrong & year & yet & youd & your & yummi & zero & Liked\\\\\n",
       "\\hline\n",
       "\t 0   & 0   & 0   & 0   & 0   & 0   & 0   & 0   & 0   & 0   & ... & 1   & 0   & 0   & 0   & 0   & 0   & 0   & 0   & 0   & 1  \\\\\n",
       "\t 0   & 0   & 0   & 0   & 0   & 0   & 0   & 0   & 0   & 0   & ... & 0   & 0   & 0   & 0   & 0   & 0   & 0   & 0   & 0   & 0  \\\\\n",
       "\t 0   & 0   & 0   & 0   & 0   & 0   & 0   & 0   & 0   & 0   & ... & 0   & 0   & 0   & 0   & 0   & 0   & 0   & 0   & 0   & 0  \\\\\n",
       "\t 0   & 0   & 0   & 0   & 0   & 0   & 0   & 0   & 0   & 0   & ... & 0   & 0   & 0   & 0   & 0   & 0   & 0   & 0   & 0   & 1  \\\\\n",
       "\t 0   & 0   & 0   & 0   & 0   & 0   & 0   & 0   & 0   & 0   & ... & 0   & 0   & 0   & 0   & 0   & 0   & 0   & 0   & 0   & 1  \\\\\n",
       "\t 0   & 0   & 0   & 0   & 0   & 0   & 0   & 0   & 0   & 0   & ... & 0   & 0   & 0   & 0   & 0   & 0   & 0   & 0   & 0   & 0  \\\\\n",
       "\\end{tabular}\n"
      ],
      "text/markdown": [
       "\n",
       "| absolut | acknowledg | actual | ago | almost | also | although | alway | amaz | ambianc | ... | wow | wrap | wrong | year | yet | youd | your | yummi | zero | Liked |\n",
       "|---|---|---|---|---|---|---|---|---|---|---|---|---|---|---|---|---|---|---|---|---|\n",
       "| 0   | 0   | 0   | 0   | 0   | 0   | 0   | 0   | 0   | 0   | ... | 1   | 0   | 0   | 0   | 0   | 0   | 0   | 0   | 0   | 1   |\n",
       "| 0   | 0   | 0   | 0   | 0   | 0   | 0   | 0   | 0   | 0   | ... | 0   | 0   | 0   | 0   | 0   | 0   | 0   | 0   | 0   | 0   |\n",
       "| 0   | 0   | 0   | 0   | 0   | 0   | 0   | 0   | 0   | 0   | ... | 0   | 0   | 0   | 0   | 0   | 0   | 0   | 0   | 0   | 0   |\n",
       "| 0   | 0   | 0   | 0   | 0   | 0   | 0   | 0   | 0   | 0   | ... | 0   | 0   | 0   | 0   | 0   | 0   | 0   | 0   | 0   | 1   |\n",
       "| 0   | 0   | 0   | 0   | 0   | 0   | 0   | 0   | 0   | 0   | ... | 0   | 0   | 0   | 0   | 0   | 0   | 0   | 0   | 0   | 1   |\n",
       "| 0   | 0   | 0   | 0   | 0   | 0   | 0   | 0   | 0   | 0   | ... | 0   | 0   | 0   | 0   | 0   | 0   | 0   | 0   | 0   | 0   |\n",
       "\n"
      ],
      "text/plain": [
       "  absolut acknowledg actual ago almost also although alway amaz ambianc ... wow\n",
       "1 0       0          0      0   0      0    0        0     0    0       ... 1  \n",
       "2 0       0          0      0   0      0    0        0     0    0       ... 0  \n",
       "3 0       0          0      0   0      0    0        0     0    0       ... 0  \n",
       "4 0       0          0      0   0      0    0        0     0    0       ... 0  \n",
       "5 0       0          0      0   0      0    0        0     0    0       ... 0  \n",
       "6 0       0          0      0   0      0    0        0     0    0       ... 0  \n",
       "  wrap wrong year yet youd your yummi zero Liked\n",
       "1 0    0     0    0   0    0    0     0    1    \n",
       "2 0    0     0    0   0    0    0     0    0    \n",
       "3 0    0     0    0   0    0    0     0    0    \n",
       "4 0    0     0    0   0    0    0     0    1    \n",
       "5 0    0     0    0   0    0    0     0    1    \n",
       "6 0    0     0    0   0    0    0     0    0    "
      ]
     },
     "metadata": {},
     "output_type": "display_data"
    }
   ],
   "source": [
    "head(dataset)"
   ]
  },
  {
   "cell_type": "code",
   "execution_count": 9,
   "metadata": {},
   "outputs": [
    {
     "data": {
      "text/html": [
       "<ol class=list-inline>\n",
       "\t<li>1000</li>\n",
       "\t<li>692</li>\n",
       "</ol>\n"
      ],
      "text/latex": [
       "\\begin{enumerate*}\n",
       "\\item 1000\n",
       "\\item 692\n",
       "\\end{enumerate*}\n"
      ],
      "text/markdown": [
       "1. 1000\n",
       "2. 692\n",
       "\n",
       "\n"
      ],
      "text/plain": [
       "[1] 1000  692"
      ]
     },
     "metadata": {},
     "output_type": "display_data"
    }
   ],
   "source": [
    "dim(dataset)"
   ]
  },
  {
   "cell_type": "code",
   "execution_count": 10,
   "metadata": {},
   "outputs": [],
   "source": [
    "# Encoding the target feature as factor\n",
    "dataset$Liked = factor(dataset$Liked, levels = c(0, 1))"
   ]
  },
  {
   "cell_type": "code",
   "execution_count": 11,
   "metadata": {},
   "outputs": [],
   "source": [
    "# Splitting the dataset into the Training set and Test set\n",
    "split = sample.split(dataset$Liked, SplitRatio = 0.8)\n",
    "training_set = subset(dataset, split == TRUE)\n",
    "test_set = subset(dataset, split == FALSE)"
   ]
  },
  {
   "cell_type": "markdown",
   "metadata": {},
   "source": [
    "<h2>Classifier 1: Random Forest</h2>"
   ]
  },
  {
   "cell_type": "code",
   "execution_count": 12,
   "metadata": {},
   "outputs": [],
   "source": [
    "set.seed(123)\n",
    "# Fitting classifier to the Training set\n",
    "classifier1 = randomForest(x = training_set[-692],y = training_set$Liked,ntree = 30)"
   ]
  },
  {
   "cell_type": "code",
   "execution_count": 13,
   "metadata": {},
   "outputs": [
    {
     "data": {
      "text/plain": [
       "   y_pred1\n",
       "     0  1\n",
       "  0 77 23\n",
       "  1 28 72"
      ]
     },
     "metadata": {},
     "output_type": "display_data"
    }
   ],
   "source": [
    "# Predicting the Test set results\n",
    "y_pred1 = predict(classifier1, newdata = test_set[-692])\n",
    "\n",
    "# Making the Confusion Matrix\n",
    "cm1 = table(test_set[, 692], y_pred1)\n",
    "cm1"
   ]
  },
  {
   "cell_type": "code",
   "execution_count": 14,
   "metadata": {},
   "outputs": [
    {
     "data": {
      "text/html": [
       "0.745"
      ],
      "text/latex": [
       "0.745"
      ],
      "text/markdown": [
       "0.745"
      ],
      "text/plain": [
       "[1] 0.745"
      ]
     },
     "metadata": {},
     "output_type": "display_data"
    }
   ],
   "source": [
    "Accuracy(y_pred1,test_set[,692])"
   ]
  },
  {
   "cell_type": "code",
   "execution_count": 15,
   "metadata": {},
   "outputs": [
    {
     "data": {
      "text/html": [
       "0.751219512195122"
      ],
      "text/latex": [
       "0.751219512195122"
      ],
      "text/markdown": [
       "0.751219512195122"
      ],
      "text/plain": [
       "[1] 0.7512195"
      ]
     },
     "metadata": {},
     "output_type": "display_data"
    }
   ],
   "source": [
    "F1_Score(test_set[,692],y_pred1)"
   ]
  },
  {
   "cell_type": "markdown",
   "metadata": {},
   "source": [
    "<h2>Classifier 2: Decision Tree </h2>"
   ]
  },
  {
   "cell_type": "code",
   "execution_count": 16,
   "metadata": {},
   "outputs": [],
   "source": [
    "# Fitting classifier to the Training set\n",
    "classifier2 = rpart(formula = Liked~.,data = training_set) "
   ]
  },
  {
   "cell_type": "code",
   "execution_count": 17,
   "metadata": {},
   "outputs": [
    {
     "data": {
      "text/plain": [
       "   y_pred2\n",
       "     0  1\n",
       "  0 87 13\n",
       "  1 39 61"
      ]
     },
     "metadata": {},
     "output_type": "display_data"
    }
   ],
   "source": [
    "# Predicting the Test set results\n",
    "y_pred2 = predict(classifier2, newdata = test_set[-692],type = \"class\")\n",
    "\n",
    "# Making the Confusion Matrix\n",
    "cm2 = table(test_set[,692],y_pred2)\n",
    "cm2"
   ]
  },
  {
   "cell_type": "code",
   "execution_count": 18,
   "metadata": {},
   "outputs": [
    {
     "data": {
      "text/html": [
       "0.74"
      ],
      "text/latex": [
       "0.74"
      ],
      "text/markdown": [
       "0.74"
      ],
      "text/plain": [
       "[1] 0.74"
      ]
     },
     "metadata": {},
     "output_type": "display_data"
    }
   ],
   "source": [
    "Accuracy(y_pred2,test_set[,692])"
   ]
  },
  {
   "cell_type": "code",
   "execution_count": 19,
   "metadata": {},
   "outputs": [
    {
     "data": {
      "text/html": [
       "0.769911504424779"
      ],
      "text/latex": [
       "0.769911504424779"
      ],
      "text/markdown": [
       "0.769911504424779"
      ],
      "text/plain": [
       "[1] 0.7699115"
      ]
     },
     "metadata": {},
     "output_type": "display_data"
    }
   ],
   "source": [
    "F1_Score(test_set[,692],y_pred2)"
   ]
  },
  {
   "cell_type": "markdown",
   "metadata": {},
   "source": [
    "<h2>Classifier 3: Naive Bayes</h2>"
   ]
  },
  {
   "cell_type": "code",
   "execution_count": 20,
   "metadata": {},
   "outputs": [],
   "source": [
    "# Fitting classifier to the Training set\n",
    "classifier3 = naiveBayes(x = training_set[-692],y = training_set$Liked)"
   ]
  },
  {
   "cell_type": "code",
   "execution_count": 21,
   "metadata": {},
   "outputs": [],
   "source": [
    "# Predicting the Test set results\n",
    "y_pred3 = predict(classifier3, newdata = test_set[-692])"
   ]
  },
  {
   "cell_type": "code",
   "execution_count": 22,
   "metadata": {},
   "outputs": [
    {
     "data": {
      "text/plain": [
       "   y_pred3\n",
       "     0  1\n",
       "  0 12 88\n",
       "  1 12 88"
      ]
     },
     "metadata": {},
     "output_type": "display_data"
    }
   ],
   "source": [
    "# Making the Confusion Matrix\n",
    "cm3 = table(test_set[, 692], y_pred3)\n",
    "cm3"
   ]
  },
  {
   "cell_type": "code",
   "execution_count": 23,
   "metadata": {},
   "outputs": [
    {
     "data": {
      "text/html": [
       "0.5"
      ],
      "text/latex": [
       "0.5"
      ],
      "text/markdown": [
       "0.5"
      ],
      "text/plain": [
       "[1] 0.5"
      ]
     },
     "metadata": {},
     "output_type": "display_data"
    }
   ],
   "source": [
    "Accuracy(y_pred3,test_set[,692])"
   ]
  },
  {
   "cell_type": "code",
   "execution_count": 24,
   "metadata": {},
   "outputs": [
    {
     "data": {
      "text/html": [
       "0.193548387096774"
      ],
      "text/latex": [
       "0.193548387096774"
      ],
      "text/markdown": [
       "0.193548387096774"
      ],
      "text/plain": [
       "[1] 0.1935484"
      ]
     },
     "metadata": {},
     "output_type": "display_data"
    }
   ],
   "source": [
    "F1_Score(test_set[,692],y_pred3)"
   ]
  },
  {
   "cell_type": "markdown",
   "metadata": {},
   "source": [
    "<h2>Performance Comparision</h2><br>\n",
    "<h3><ul><li> Random Forest Classification: 74.5%</li><br>\n",
    "    <li>Decision Tree Classification: 74%</li><br>\n",
    "    <li>Naive Bayes Classification: 50%</li></ul></h3>"
   ]
  }
 ],
 "metadata": {
  "kernelspec": {
   "display_name": "R",
   "language": "R",
   "name": "ir"
  },
  "language_info": {
   "codemirror_mode": "r",
   "file_extension": ".r",
   "mimetype": "text/x-r-source",
   "name": "R",
   "pygments_lexer": "r",
   "version": "3.6.0"
  }
 },
 "nbformat": 4,
 "nbformat_minor": 2
}
